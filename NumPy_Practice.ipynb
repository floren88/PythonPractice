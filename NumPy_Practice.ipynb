{
 "cells": [
  {
   "cell_type": "code",
   "execution_count": 2,
   "id": "63ad4c26-9f8c-4149-8f49-8b33121a137f",
   "metadata": {},
   "outputs": [],
   "source": [
    "#Practicing Math Library\n",
    "import math"
   ]
  },
  {
   "cell_type": "code",
   "execution_count": 4,
   "id": "f12b37e1-2e74-4542-8841-fbf17a555c7d",
   "metadata": {},
   "outputs": [
    {
     "name": "stdout",
     "output_type": "stream",
     "text": [
      "4.0\n"
     ]
    }
   ],
   "source": [
    "A=16\n",
    "print(math.sqrt(A))"
   ]
  },
  {
   "cell_type": "code",
   "execution_count": 7,
   "id": "a9261837-a1e9-4aae-9068-2d3ef2f0413c",
   "metadata": {},
   "outputs": [
    {
     "name": "stdout",
     "output_type": "stream",
     "text": [
      "4.0\n",
      "0.0015926529164868282\n"
     ]
    }
   ],
   "source": [
    "B=3.14\n",
    "from math import sqrt, sin\n",
    "print(sqrt(A))\n",
    "print(sin(B))"
   ]
  },
  {
   "cell_type": "code",
   "execution_count": 14,
   "id": "592cdd55-dcdf-4c06-893e-6417822687b3",
   "metadata": {},
   "outputs": [],
   "source": [
    "#Practicing NumPy Library\n",
    "import numpy as np"
   ]
  },
  {
   "cell_type": "code",
   "execution_count": 16,
   "id": "2b9c1e05-4696-4294-9b6a-6d382ca7e52e",
   "metadata": {},
   "outputs": [
    {
     "data": {
      "text/plain": [
       "array([1.41421356, 2.        , 3.        , 4.        ])"
      ]
     },
     "execution_count": 16,
     "metadata": {},
     "output_type": "execute_result"
    }
   ],
   "source": [
    "np_sqrt = np.sqrt([2,4,9,16])\n",
    "np_sqrt"
   ]
  },
  {
   "cell_type": "code",
   "execution_count": 20,
   "id": "259d7494-b5d2-4707-8a23-0d3b39d71f82",
   "metadata": {},
   "outputs": [
    {
     "data": {
      "text/plain": [
       "1.0"
      ]
     },
     "execution_count": 20,
     "metadata": {},
     "output_type": "execute_result"
    }
   ],
   "source": [
    "from numpy import pi\n",
    "np.cos(0)"
   ]
  },
  {
   "cell_type": "code",
   "execution_count": 22,
   "id": "ef3051b2-57de-449f-b606-7b6c2c9bf3bb",
   "metadata": {},
   "outputs": [
    {
     "data": {
      "text/plain": [
       "1.0"
      ]
     },
     "execution_count": 22,
     "metadata": {},
     "output_type": "execute_result"
    }
   ],
   "source": [
    "np.sin(pi/2)"
   ]
  },
  {
   "cell_type": "code",
   "execution_count": 24,
   "id": "5c79f06f-2f79-4ee1-9ed6-86b6ad097f5d",
   "metadata": {},
   "outputs": [
    {
     "data": {
      "text/plain": [
       "-1.0"
      ]
     },
     "execution_count": 24,
     "metadata": {},
     "output_type": "execute_result"
    }
   ],
   "source": [
    "np.cos(pi)"
   ]
  },
  {
   "cell_type": "code",
   "execution_count": 27,
   "id": "4cb9f930-06f5-4633-af97-e51987e3cdc9",
   "metadata": {},
   "outputs": [
    {
     "data": {
      "text/plain": [
       "array([ 1.,  1.,  2.,  3.,  1., -1., -2.])"
      ]
     },
     "execution_count": 27,
     "metadata": {},
     "output_type": "execute_result"
    }
   ],
   "source": [
    "np.floor([1.5,1.6,2.7,3.3,1.1, -0.3,-1.4])"
   ]
  },
  {
   "cell_type": "code",
   "execution_count": 29,
   "id": "c78db04e-8688-44d6-ba39-2bd7d7d069a4",
   "metadata": {},
   "outputs": [
    {
     "data": {
      "text/plain": [
       "array([  1.        ,   2.71828183, 148.4131591 ])"
      ]
     },
     "execution_count": 29,
     "metadata": {},
     "output_type": "execute_result"
    }
   ],
   "source": [
    "np.exp([0,1,5])"
   ]
  },
  {
   "cell_type": "code",
   "execution_count": 34,
   "id": "3a077350-18a4-45b4-b831-651fa4f51268",
   "metadata": {},
   "outputs": [
    {
     "data": {
      "text/plain": [
       "array([10, 15, 17, 26, 13, 19, 12, 11, 21, 24, 14, 23])"
      ]
     },
     "execution_count": 34,
     "metadata": {},
     "output_type": "execute_result"
    }
   ],
   "source": [
    "#shape Manipulation\n",
    "new_cyclist_trials=np.array([[10,15,17,26,13,19],[12,11,21,24,14,23]])\n",
    "new_cyclist_trials.ravel()"
   ]
  },
  {
   "cell_type": "code",
   "execution_count": 36,
   "id": "9b45a5e7-8300-4711-b309-e137760c5877",
   "metadata": {},
   "outputs": [
    {
     "data": {
      "text/plain": [
       "array([[10, 15, 17, 26],\n",
       "       [13, 19, 12, 11],\n",
       "       [21, 24, 14, 23]])"
      ]
     },
     "execution_count": 36,
     "metadata": {},
     "output_type": "execute_result"
    }
   ],
   "source": [
    "new_cyclist_trials.reshape(3,4)"
   ]
  },
  {
   "cell_type": "code",
   "execution_count": 38,
   "id": "cfcdf826-d215-4e4a-aeec-aa4bd50f8440",
   "metadata": {},
   "outputs": [],
   "source": [
    "a = new_cyclist_trials"
   ]
  },
  {
   "cell_type": "code",
   "execution_count": 40,
   "id": "3c356263-b515-45da-9fc5-20d1e305cc81",
   "metadata": {},
   "outputs": [],
   "source": [
    "a.resize(2,6)"
   ]
  },
  {
   "cell_type": "code",
   "execution_count": 42,
   "id": "b5e4ea14-1a63-4a40-a804-8f75c2d3a53a",
   "metadata": {},
   "outputs": [
    {
     "data": {
      "text/plain": [
       "array([[10, 15, 17, 26, 13, 19],\n",
       "       [12, 11, 21, 24, 14, 23]])"
      ]
     },
     "execution_count": 42,
     "metadata": {},
     "output_type": "execute_result"
    }
   ],
   "source": [
    "a"
   ]
  },
  {
   "cell_type": "code",
   "execution_count": 44,
   "id": "dfbf6cfa-c22b-4b33-8f9e-96234dd86079",
   "metadata": {},
   "outputs": [
    {
     "data": {
      "text/plain": [
       "[array([[10, 15, 17],\n",
       "        [12, 11, 21]]),\n",
       " array([[26, 13, 19],\n",
       "        [24, 14, 23]])]"
      ]
     },
     "execution_count": 44,
     "metadata": {},
     "output_type": "execute_result"
    }
   ],
   "source": [
    "np.hsplit(a,2)"
   ]
  },
  {
   "cell_type": "code",
   "execution_count": 46,
   "id": "0fd12060-5adf-4be5-b46f-8f6210bb9aa4",
   "metadata": {},
   "outputs": [],
   "source": [
    "a_1 = np.array([10,15,17,26,13,19])"
   ]
  },
  {
   "cell_type": "code",
   "execution_count": 49,
   "id": "dbf323e6-599b-45b2-bd18-acea1cf2ecfa",
   "metadata": {},
   "outputs": [],
   "source": [
    "a_2 = np.array([12,11,21,24,14,23])"
   ]
  },
  {
   "cell_type": "code",
   "execution_count": 54,
   "id": "c6077113-fb2c-435e-8c88-c6f9c2c2d665",
   "metadata": {},
   "outputs": [
    {
     "data": {
      "text/plain": [
       "array([10, 15, 17, 26, 13, 19, 12, 11, 21, 24, 14, 23])"
      ]
     },
     "execution_count": 54,
     "metadata": {},
     "output_type": "execute_result"
    }
   ],
   "source": [
    "np.hstack((a_1,a_2))"
   ]
  },
  {
   "cell_type": "code",
   "execution_count": 58,
   "id": "eb51be4c-205c-4774-b812-3b5c35355350",
   "metadata": {},
   "outputs": [
    {
     "name": "stdout",
     "output_type": "stream",
     "text": [
      "[10 15 17 26 13 19]\n"
     ]
    }
   ],
   "source": [
    "type(a_1)\n",
    "print(a_1)"
   ]
  },
  {
   "cell_type": "code",
   "execution_count": 60,
   "id": "468d8ea2-de1a-48a7-ab01-1e3a1133774e",
   "metadata": {},
   "outputs": [
    {
     "data": {
      "text/plain": [
       "array([[0., 0., 0., 0., 0.],\n",
       "       [0., 0., 0., 0., 0.],\n",
       "       [0., 0., 0., 0., 0.],\n",
       "       [0., 0., 0., 0., 0.],\n",
       "       [0., 0., 0., 0., 0.]])"
      ]
     },
     "execution_count": 60,
     "metadata": {},
     "output_type": "execute_result"
    }
   ],
   "source": [
    "# array with zeros\n",
    "array_0 = np.zeros((5,5))\n",
    "array_0"
   ]
  },
  {
   "cell_type": "code",
   "execution_count": 62,
   "id": "9dc6eb62-f13a-4637-9267-0dfe797eb855",
   "metadata": {},
   "outputs": [
    {
     "data": {
      "text/plain": [
       "array([[1., 1., 1., 1., 1.],\n",
       "       [1., 1., 1., 1., 1.],\n",
       "       [1., 1., 1., 1., 1.],\n",
       "       [1., 1., 1., 1., 1.],\n",
       "       [1., 1., 1., 1., 1.]])"
      ]
     },
     "execution_count": 62,
     "metadata": {},
     "output_type": "execute_result"
    }
   ],
   "source": [
    "# array with ones\n",
    "array_0 = np.ones((5,5))\n",
    "array_0"
   ]
  },
  {
   "cell_type": "code",
   "execution_count": 71,
   "id": "cf649739-450c-4494-9047-d5a80f18576f",
   "metadata": {},
   "outputs": [
    {
     "data": {
      "text/plain": [
       "array([[1.41047864e-311, 3.16202013e-322, 0.00000000e+000],\n",
       "       [0.00000000e+000, 1.14587773e-312, 3.93208315e-061],\n",
       "       [4.54604047e+174, 3.88714376e-057, 1.91830604e-076],\n",
       "       [2.51310882e+180, 9.95811480e-047, 9.20231229e+169]])"
      ]
     },
     "execution_count": 71,
     "metadata": {},
     "output_type": "execute_result"
    }
   ],
   "source": [
    "# array with empty / assign randoms\n",
    "array_emp = np.empty((4,3))\n",
    "array_emp"
   ]
  },
  {
   "cell_type": "code",
   "execution_count": 79,
   "id": "895f0dff-4d14-43ad-b6f9-dd2de1fa26e0",
   "metadata": {},
   "outputs": [
    {
     "name": "stdout",
     "output_type": "stream",
     "text": [
      "[ 0  1  2  3  4  5  6  7  8  9 10 11 12 13 14]\n"
     ]
    },
    {
     "data": {
      "text/plain": [
       "array([[ 0,  1,  2,  3,  4],\n",
       "       [ 5,  6,  7,  8,  9],\n",
       "       [10, 11, 12, 13, 14]])"
      ]
     },
     "execution_count": 79,
     "metadata": {},
     "output_type": "execute_result"
    }
   ],
   "source": [
    "# arange method\n",
    "np_arange = np.arange(15)\n",
    "print(np_arange)\n",
    "np_arange.reshape(3,5)"
   ]
  },
  {
   "cell_type": "code",
   "execution_count": 81,
   "id": "f0d54d08-340d-4cd2-b883-595443dda59b",
   "metadata": {},
   "outputs": [
    {
     "name": "stdout",
     "output_type": "stream",
     "text": [
      "[1.   2.25 3.5  4.75 6.  ]\n"
     ]
    }
   ],
   "source": [
    "#linspace for Linearly (equal) spaced data elements\n",
    "np_linspce = np.linspace(1,6,5)\n",
    "print (np_linspce)"
   ]
  },
  {
   "cell_type": "code",
   "execution_count": 82,
   "id": "2cbcb623-bd7d-4cc5-9458-fb5f2c332207",
   "metadata": {},
   "outputs": [
    {
     "name": "stdout",
     "output_type": "stream",
     "text": [
      "[[[ 0  1  2]\n",
      "  [ 3  4  5]\n",
      "  [ 6  7  8]]\n",
      "\n",
      " [[ 9 10 11]\n",
      "  [12 13 14]\n",
      "  [15 16 17]]\n",
      "\n",
      " [[18 19 20]\n",
      "  [21 22 23]\n",
      "  [24 25 26]]]\n"
     ]
    }
   ],
   "source": [
    "#Three dimensional array \n",
    "ThreeD_array = np.arange(27).reshape(3,3,3)\n",
    "print(ThreeD_array)"
   ]
  }
 ],
 "metadata": {
  "kernelspec": {
   "display_name": "Python 3 (ipykernel)",
   "language": "python",
   "name": "python3"
  },
  "language_info": {
   "codemirror_mode": {
    "name": "ipython",
    "version": 3
   },
   "file_extension": ".py",
   "mimetype": "text/x-python",
   "name": "python",
   "nbconvert_exporter": "python",
   "pygments_lexer": "ipython3",
   "version": "3.9.13"
  }
 },
 "nbformat": 4,
 "nbformat_minor": 5
}
