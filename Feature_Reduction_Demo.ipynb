{
 "cells": [
  {
   "cell_type": "code",
   "execution_count": null,
   "id": "3ba380a6-548e-4919-8af3-b4001f4c24c6",
   "metadata": {},
   "outputs": [],
   "source": [
    "# Problem statement: The dataset you are going to use in this practice is the famous Iris data\n",
    "#                    set. The dataset consists of 150 records of the Iris plant with four features:\n",
    "#                    \"sepal-length\",\"sepal-width\",\"petal-length\", and \"petal-width\". All these\n",
    "#                    features are numeric. The records have been classified into one ofthe three\n",
    "#                    classes, that is, \"Iris-setosa\",\"Iris-versicolor\", or \"Iris-verginicia\".\n",
    "#                    \n",
    "#                    You are supposed to reduce the number of variables by merging correlated\n",
    "#                    variables and extracting the most important features from the dataset that\n",
    "#                    are responsible for maximum variance in the output."
   ]
  },
  {
   "cell_type": "code",
   "execution_count": null,
   "id": "577f5fa0-fd5d-41d2-982a-a5a0876aa4c8",
   "metadata": {},
   "outputs": [],
   "source": [
    "import sklearn\n",
    "from sklearn.datasets import load_iris"
   ]
  },
  {
   "cell_type": "code",
   "execution_count": null,
   "id": "55ebf890-7069-4700-823b-6c5d971dfa4f",
   "metadata": {},
   "outputs": [],
   "source": [
    "data = load_iris()"
   ]
  },
  {
   "cell_type": "code",
   "execution_count": null,
   "id": "525f2f6c-c02b-430c-880f-ef1c87da5aae",
   "metadata": {},
   "outputs": [],
   "source": [
    "x = data.data\n",
    "y = data.target"
   ]
  },
  {
   "cell_type": "code",
   "execution_count": null,
   "id": "c16c5665-8d3c-4052-a671-999cc070945d",
   "metadata": {},
   "outputs": [],
   "source": [
    "from sklearn.model_selection import train_test_split\n",
    "x_train,x_test,y_train,y_test = train_test_split(x,y,test_size=0.2,random_state=1)"
   ]
  },
  {
   "cell_type": "code",
   "execution_count": null,
   "id": "784d8946-80d7-41f5-bce0-8f5703f1dc18",
   "metadata": {},
   "outputs": [],
   "source": [
    "print(x_train.shape)"
   ]
  },
  {
   "cell_type": "code",
   "execution_count": null,
   "id": "cdf8cd19-4b12-45de-9b28-459767041e6d",
   "metadata": {},
   "outputs": [],
   "source": [
    "from sklearn.linear_model import LogisticRegression"
   ]
  },
  {
   "cell_type": "code",
   "execution_count": null,
   "id": "7acde78b-d445-45c3-9bd4-f16516e03140",
   "metadata": {},
   "outputs": [],
   "source": [
    "lr = LogisticRegression()"
   ]
  },
  {
   "cell_type": "code",
   "execution_count": null,
   "id": "c524c350-b5e6-4967-87f0-7a9724bb3c32",
   "metadata": {},
   "outputs": [],
   "source": [
    "lr.fit(x_train,y_train)"
   ]
  },
  {
   "cell_type": "code",
   "execution_count": null,
   "id": "39e833a1-b0d7-4541-bd40-2a96fc1e1dc8",
   "metadata": {},
   "outputs": [],
   "source": [
    "y_predict = lr.predict(x_test)"
   ]
  },
  {
   "cell_type": "code",
   "execution_count": null,
   "id": "7763556a-4e78-4c00-92e3-2f06be9368f2",
   "metadata": {},
   "outputs": [],
   "source": [
    "from sklearn.metrics import accuracy_score\n",
    "accuracy = accuracy_score(y_predict,y_test)"
   ]
  },
  {
   "cell_type": "code",
   "execution_count": null,
   "id": "72dbf4a3-8fc9-424c-92d0-425699b86b03",
   "metadata": {},
   "outputs": [],
   "source": [
    "print(accuracy)"
   ]
  },
  {
   "cell_type": "code",
   "execution_count": null,
   "id": "cda81e26-b6c8-4c73-bef6-a76a2930a5cc",
   "metadata": {},
   "outputs": [],
   "source": [
    "from sklearn.decomposition import PCA"
   ]
  },
  {
   "cell_type": "code",
   "execution_count": null,
   "id": "9a6b648e-615b-46de-8894-1a497091ebd9",
   "metadata": {},
   "outputs": [],
   "source": [
    "sklearn_pca = PCA(n_components=0.95)"
   ]
  },
  {
   "cell_type": "code",
   "execution_count": null,
   "id": "bdd2d70a-516c-4b4a-ac8b-44332a32090d",
   "metadata": {},
   "outputs": [],
   "source": [
    "sklearn_pca.fit(x_train)"
   ]
  },
  {
   "cell_type": "code",
   "execution_count": null,
   "id": "4d72cb24-08c0-4b69-9229-55199ce3b40b",
   "metadata": {},
   "outputs": [],
   "source": [
    "x_train_transformed=sklearn_pca.transform(x_train)"
   ]
  },
  {
   "cell_type": "code",
   "execution_count": null,
   "id": "6880a6ea-d5d8-43d4-9ce7-3925281f3703",
   "metadata": {},
   "outputs": [],
   "source": [
    "print(x_train_transformed.shape)"
   ]
  },
  {
   "cell_type": "code",
   "execution_count": null,
   "id": "1dd27287-b751-4868-8885-a256d2b5ab0f",
   "metadata": {},
   "outputs": [],
   "source": [
    "print(x_test.shape)"
   ]
  },
  {
   "cell_type": "code",
   "execution_count": null,
   "id": "cc573fcb-31fc-4beb-9c1f-cd37ca3e7e0e",
   "metadata": {},
   "outputs": [],
   "source": [
    "x_test_transformed = sklearn_pca.transform(x_test)\n",
    "print(x_test_transformed.shape)"
   ]
  },
  {
   "cell_type": "code",
   "execution_count": null,
   "id": "2fab4e92-6f8b-492f-aacb-2bc078634454",
   "metadata": {},
   "outputs": [],
   "source": [
    "lr = LogisticRegression(penalty= 'l2')"
   ]
  },
  {
   "cell_type": "code",
   "execution_count": null,
   "id": "0245ef0a-3778-4a42-ba94-359acd80557f",
   "metadata": {},
   "outputs": [],
   "source": [
    "lr.fit(x_train_transformed,y_train)"
   ]
  },
  {
   "cell_type": "code",
   "execution_count": null,
   "id": "2d651df2-951c-451b-aaba-4406e4eaad15",
   "metadata": {},
   "outputs": [],
   "source": [
    "y_predict = lr.predict(x_test_transformed)"
   ]
  },
  {
   "cell_type": "code",
   "execution_count": null,
   "id": "4efcbd0a-30c9-425a-a33d-66b11a7a9677",
   "metadata": {},
   "outputs": [],
   "source": [
    "from sklearn.metrics import accuracy_score"
   ]
  },
  {
   "cell_type": "code",
   "execution_count": null,
   "id": "15aa2c5e-f01a-4601-96f1-7c2289dab9d6",
   "metadata": {},
   "outputs": [],
   "source": [
    "accuracy = accuracy_score(y_predict,y_test)\n",
    "print(accuracy)"
   ]
  },
  {
   "cell_type": "code",
   "execution_count": null,
   "id": "3645dd8c-fe4c-4d70-873e-90910fb3bf54",
   "metadata": {},
   "outputs": [],
   "source": [
    "# Quick Recap\n",
    "# Step 1: Import Libraries and the dataset.\n",
    "# Step 2: Define the data and target values.\n",
    "# Step 3: Split the data and target values into training and testing sets.\n",
    "# Step 4: Implement a logistic regression model.\n",
    "# Step 5: Perform PCA transformation.\n",
    "# Step 6: Implement a logistic regression model over the transformed dataset\n",
    "# Step 7: Check for the accuracy."
   ]
  }
 ],
 "metadata": {
  "kernelspec": {
   "display_name": "Python 3 (ipykernel)",
   "language": "python",
   "name": "python3"
  },
  "language_info": {
   "codemirror_mode": {
    "name": "ipython",
    "version": 3
   },
   "file_extension": ".py",
   "mimetype": "text/x-python",
   "name": "python",
   "nbconvert_exporter": "python",
   "pygments_lexer": "ipython3",
   "version": "3.9.13"
  }
 },
 "nbformat": 4,
 "nbformat_minor": 5
}
